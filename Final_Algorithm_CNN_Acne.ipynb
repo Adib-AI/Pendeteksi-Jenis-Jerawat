{
 "cells": [
  {
   "cell_type": "code",
   "execution_count": 1,
   "metadata": {},
   "outputs": [],
   "source": [
    "import keras\n",
    "import tensorflow as tf\n",
    "import numpy as np\n",
    "import matplotlib.pyplot as plt\n",
    "from tensorflow.keras import layers, models\n",
    "from tensorflow.keras.models import Sequential\n",
    "from PIL import Image, ImageOps\n",
    "import IPython.display as display\n",
    "import pathlib\n",
    "from skimage.io import imread_collection\n",
    "import os\n",
    "import io\n",
    "from sklearn.model_selection import train_test_split\n",
    "from sklearn.datasets import make_multilabel_classification\n",
    "import pandas as pd\n",
    "import seaborn as sns\n",
    "from keras.models import load_model\n",
    "import cv2\n",
    "import itertools"
   ]
  },
  {
   "cell_type": "code",
   "execution_count": 2,
   "metadata": {},
   "outputs": [],
   "source": [
    "cwd = os.getcwd()"
   ]
  },
  {
   "cell_type": "code",
   "execution_count": 3,
   "metadata": {},
   "outputs": [
    {
     "name": "stdout",
     "output_type": "stream",
     "text": [
      "WARNING:tensorflow:No training configuration found in the save file, so the model was *not* compiled. Compile it manually.\n",
      "[[0.0000245  0.00285252 0.4878971  0.43892848 0.07001673 0.00024484\n",
      "  0.0000358 ]]\n"
     ]
    }
   ],
   "source": [
    "from keras.models import load_model\n",
    "from PIL import Image, ImageOps\n",
    "import numpy as np\n",
    "\n",
    "np.set_printoptions(suppress=True)\n",
    "\n",
    "# Melakukan load model\n",
    "model = load_model('keras_model.h5')\n",
    "\n",
    "#Melakukan shape 224,244, dengan color RGB (3) dan mengubah tipe data menjadi float32\n",
    "data = np.ndarray(shape=(1, 224, 224, 3), dtype=np.float32)\n",
    "# Membuka gambar yang akan dilakukan prediksi\n",
    "image = Image.open('papules.jpg')\n",
    "#Mengubah ukuran gambar\n",
    "size = (224, 224)\n",
    "image = ImageOps.fit(image, size, Image.ANTIALIAS)\n",
    "\n",
    "#Memasukkan gambar yang telah diubah ukurannya\n",
    "image_array = np.asarray(image)\n",
    "# Melakukan nomrlisasi\n",
    "normalized_image_array = (image_array.astype(np.float32) / 127.0) - 1\n",
    "# Menyimpang hasil normalisasi pada data\n",
    "data[0] = normalized_image_array\n",
    "\n",
    "# jalankan prediksi\n",
    "prediction = model.predict(data)\n",
    "print(prediction)"
   ]
  },
  {
   "cell_type": "code",
   "execution_count": 4,
   "metadata": {},
   "outputs": [],
   "source": [
    "img_class = {0 : \"Blackhead\",\n",
    "             1 : \"Acne Scar\",\n",
    "             2 : \"Cystic Acne\",\n",
    "             3 : \"Nodul\",\n",
    "             4 : \"Papules\",\n",
    "             5 : \"Pustules\",\n",
    "             6 : \"Whitehead\"\n",
    "            }"
   ]
  },
  {
   "cell_type": "code",
   "execution_count": 5,
   "metadata": {},
   "outputs": [
    {
     "data": {
      "text/plain": [
       "'Cystic Acne'"
      ]
     },
     "execution_count": 5,
     "metadata": {},
     "output_type": "execute_result"
    }
   ],
   "source": [
    "img_class[np.argmax(prediction)]"
   ]
  },
  {
   "cell_type": "code",
   "execution_count": 6,
   "metadata": {},
   "outputs": [
    {
     "data": {
      "text/plain": [
       "dict_values(['Blackhead', 'Acne Scar', 'Cystic Acne', 'Nodul', 'Papules', 'Pustules', 'Whitehead'])"
      ]
     },
     "execution_count": 6,
     "metadata": {},
     "output_type": "execute_result"
    }
   ],
   "source": [
    "img_class.values()"
   ]
  },
  {
   "cell_type": "code",
   "execution_count": 7,
   "metadata": {},
   "outputs": [
    {
     "name": "stdout",
     "output_type": "stream",
     "text": [
      "Blackhead\n",
      "Acne Scar\n",
      "Cystic Acne\n",
      "Nodul\n",
      "Papules\n",
      "Pustules\n",
      "Whitehead\n"
     ]
    }
   ],
   "source": [
    "for i in img_class.values():\n",
    "    print(i)"
   ]
  },
  {
   "cell_type": "code",
   "execution_count": 8,
   "metadata": {},
   "outputs": [],
   "source": [
    "cols = prediction"
   ]
  },
  {
   "cell_type": "code",
   "execution_count": 9,
   "metadata": {},
   "outputs": [],
   "source": [
    "list_cols = list(cols)"
   ]
  },
  {
   "cell_type": "code",
   "execution_count": 10,
   "metadata": {},
   "outputs": [
    {
     "data": {
      "text/plain": [
       "array([0.0000245 , 0.00285252, 0.4878971 , 0.43892848, 0.07001673,\n",
       "       0.00024484, 0.0000358 ], dtype=float32)"
      ]
     },
     "execution_count": 10,
     "metadata": {},
     "output_type": "execute_result"
    }
   ],
   "source": [
    "list_cols[0]"
   ]
  },
  {
   "cell_type": "code",
   "execution_count": 11,
   "metadata": {},
   "outputs": [],
   "source": [
    "prediction_values = prediction"
   ]
  },
  {
   "cell_type": "code",
   "execution_count": 12,
   "metadata": {},
   "outputs": [],
   "source": [
    "prediction_values_list = prediction_values.tolist()"
   ]
  },
  {
   "cell_type": "code",
   "execution_count": 13,
   "metadata": {},
   "outputs": [
    {
     "data": {
      "text/plain": [
       "[[2.450489773764275e-05,\n",
       "  0.0028525192756205797,\n",
       "  0.4878970980644226,\n",
       "  0.438928484916687,\n",
       "  0.07001673430204391,\n",
       "  0.0002448437735438347,\n",
       "  3.579894837457687e-05]]"
      ]
     },
     "execution_count": 13,
     "metadata": {},
     "output_type": "execute_result"
    }
   ],
   "source": [
    "prediction_values_list"
   ]
  },
  {
   "cell_type": "code",
   "execution_count": 14,
   "metadata": {},
   "outputs": [
    {
     "data": {
      "text/plain": [
       "0.0028525192756205797"
      ]
     },
     "execution_count": 14,
     "metadata": {},
     "output_type": "execute_result"
    }
   ],
   "source": [
    "prediction_values_list[0][1]"
   ]
  },
  {
   "cell_type": "code",
   "execution_count": 15,
   "metadata": {},
   "outputs": [
    {
     "name": "stdout",
     "output_type": "stream",
     "text": [
      "Blackhead : 2.450489773764275e-05\n",
      "Acne Scar : 0.0028525192756205797\n",
      "Cystic Acne : 0.4878970980644226\n",
      "Nodul : 0.438928484916687\n",
      "Papules : 0.07001673430204391\n",
      "Pustules : 0.0002448437735438347\n",
      "Whitehead : 3.579894837457687e-05\n",
      "\n",
      "Jenis jerawat terdeteksi tertinggi  adalah Cystic Acne dengan nilai 0.4878970980644226\n",
      "\n",
      "Jenis jerawat terdeteksi terendah adalah Blackhead dengan nilai 2.450489773764275e-05\n"
     ]
    }
   ],
   "source": [
    "key_img_class = list(img_class)\n",
    "np.set_printoptions(suppress=True)\n",
    "a = 0\n",
    "for i in img_class.values():\n",
    "    if img_class[np.all(prediction)]:\n",
    "        print(\"{acne} : {values}\".format(acne = i, values = prediction_values_list[0][a]))\n",
    "        a+=1\n",
    "\n",
    "print(\"\\nJenis jerawat terdeteksi tertinggi  adalah {acne} dengan nilai {values}\".format(acne = img_class[np.argmax(prediction)], \n",
    "                                                                                     values = np.max(prediction)))\n",
    "print(\"\\nJenis jerawat terdeteksi terendah adalah {acne} dengan nilai {values}\".format(acne = img_class[np.argmin(prediction)],\n",
    "                                                                                      values = np.min(prediction)))"
   ]
  },
  {
   "cell_type": "code",
   "execution_count": 16,
   "metadata": {},
   "outputs": [
    {
     "data": {
      "text/plain": [
       "['Blackhead',\n",
       " 'Acne Scar',\n",
       " 'Cystic Acne',\n",
       " 'Nodul',\n",
       " 'Papules',\n",
       " 'Pustules',\n",
       " 'Whitehead']"
      ]
     },
     "execution_count": 16,
     "metadata": {},
     "output_type": "execute_result"
    }
   ],
   "source": [
    "labelsss = list(img_class.values())\n",
    "labelsss"
   ]
  },
  {
   "cell_type": "code",
   "execution_count": 18,
   "metadata": {},
   "outputs": [
    {
     "data": {
      "text/plain": [
       "[2.450489773764275e-05,\n",
       " 0.0028525192756205797,\n",
       " 0.4878970980644226,\n",
       " 0.438928484916687,\n",
       " 0.07001673430204391,\n",
       " 0.0002448437735438347,\n",
       " 3.579894837457687e-05]"
      ]
     },
     "execution_count": 18,
     "metadata": {},
     "output_type": "execute_result"
    }
   ],
   "source": [
    "number_prediction = prediction_values_list\n",
    "number_prediction_1d = list(itertools.chain(*number_prediction)) #Convert 2 dimensi list menjadi 1 dimensi\n",
    "number_prediction_1d"
   ]
  },
  {
   "cell_type": "code",
   "execution_count": 19,
   "metadata": {},
   "outputs": [],
   "source": [
    "def addlabels(x,y):\n",
    "    for i in range(len(x)):\n",
    "        plt.text(i,y[i],round(y[i],5), horizontalalignment='center')"
   ]
  },
  {
   "cell_type": "code",
   "execution_count": 21,
   "metadata": {
    "scrolled": false
   },
   "outputs": [
    {
     "data": {
      "image/png": "[encoded data removed]",
      "text/plain": [
       "<Figure size 720x576 with 1 Axes>"
      ]
     },
     "metadata": {
      "needs_background": "light"
     },
     "output_type": "display_data"
    }
   ],
   "source": [
    "plt.figure(figsize=(10,8))\n",
    "plt.bar(labelsss,number_prediction_1d, color = ['red','green','blue','yellow','purple'])\n",
    "plt.title(\"Acne Types\")\n",
    "plt.xlabel(\"Jenis Jerawat\")\n",
    "plt.ylabel(\"Tingkat Nilai Terdeteksi\")\n",
    "addlabels(labelsss,number_prediction_1d)\n",
    "plt.show()"
   ]
  }
 ],
 "metadata": {
  "kernelspec": {
   "display_name": "Python 3",
   "language": "python",
   "name": "python3"
  },
  "language_info": {
   "codemirror_mode": {
    "name": "ipython",
    "version": 3
   },
   "file_extension": ".py",
   "mimetype": "text/x-python",
   "name": "python",
   "nbconvert_exporter": "python",
   "pygments_lexer": "ipython3",
   "version": "3.8.5"
  }
 },
 "nbformat": 4,
 "nbformat_minor": 4
}
